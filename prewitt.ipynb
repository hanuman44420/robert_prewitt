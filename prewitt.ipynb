{
  "nbformat": 4,
  "nbformat_minor": 0,
  "metadata": {
    "colab": {
      "name": "Untitled5.ipynb",
      "provenance": []
    },
    "kernelspec": {
      "name": "python3",
      "display_name": "Python 3"
    },
    "language_info": {
      "name": "python"
    }
  },
  "cells": [
    {
      "cell_type": "code",
      "execution_count": 10,
      "metadata": {
        "id": "PrkRizMwkymq"
      },
      "outputs": [],
      "source": [
        "import cv2\n",
        "import numpy as np\n",
        "\n",
        "img = cv2.imread(\"/content/drive/MyDrive/water1.jpg\")\n",
        "\n",
        "# Horizontal Prewitt Mask\n",
        "# [(-1 -1 -1),(0,0,0),(1,1,1)]\n",
        "Mx = np.ones((3,3))\n",
        "for i in range(3):\n",
        "    Mx[i,:] = i-1\n",
        "pH = cv2.filter2D(img,-1,Mx)\n",
        "cv2.imwrite('prewitt_hori.jpg',pH)\n",
        "cv2.waitKey(0)\n",
        "\n",
        "# Vertical Prewitt Mask\n",
        "# [(-1 0 1),(-1 0 1),(-1 0 1)]\n",
        "My = np.ones((3,3))\n",
        "for i in range(3):\n",
        "    My[:,i] = i-1\n",
        "pV = cv2.filter2D(img,-1,My)\n",
        "cv2.imwrite('prewitt_vert.jpg',pV)\n",
        "cv2.destroyAllWindows()"
      ]
    }
  ]
}