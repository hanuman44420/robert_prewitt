{
  "nbformat": 4,
  "nbformat_minor": 0,
  "metadata": {
    "colab": {
      "name": "Untitled5.ipynb",
      "provenance": []
    },
    "kernelspec": {
      "name": "python3",
      "display_name": "Python 3"
    },
    "language_info": {
      "name": "python"
    }
  },
  "cells": [
    {
      "cell_type": "code",
      "execution_count": 10,
      "metadata": {
        "id": "PrkRizMwkymq"
      },
      "outputs": [],
      "source": [
        "import cv2\n",
        "import numpy as np\n",
        "\n",
        "img = cv2.imread(\"lake_nz.jpg\")\n",
        "# Robert's Filter\n",
        "# [(-1 0),(0 1)]\n",
        "rob = np.zeros((2,2))\n",
        "for i in range(2):\n",
        "    rob[0,0] = -1\n",
        "    rob[1,1] = 1\n",
        "rF = cv2.filter2D(img,-1,rob)\n",
        "cv2.imwrite('robert.jpg',rF)\n",
        "cv2.waitKey(0)\n",
        "cv2.destroyAllWindows()"
      ]
    }
  ]
}